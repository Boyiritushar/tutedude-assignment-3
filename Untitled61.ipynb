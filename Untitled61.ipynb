{
  "nbformat": 4,
  "nbformat_minor": 0,
  "metadata": {
    "colab": {
      "provenance": [],
      "authorship_tag": "ABX9TyMCXs+qe43ojHs7/yILvjVE",
      "include_colab_link": true
    },
    "kernelspec": {
      "name": "python3",
      "display_name": "Python 3"
    },
    "language_info": {
      "name": "python"
    }
  },
  "cells": [
    {
      "cell_type": "markdown",
      "metadata": {
        "id": "view-in-github",
        "colab_type": "text"
      },
      "source": [
        "<a href=\"https://colab.research.google.com/github/Boyiritushar/tutedude-assignment-3/blob/main/Untitled61.ipynb\" target=\"_parent\"><img src=\"https://colab.research.google.com/assets/colab-badge.svg\" alt=\"Open In Colab\"/></a>"
      ]
    },
    {
      "cell_type": "markdown",
      "source": [],
      "metadata": {
        "id": "Y-BAAxZEudkv"
      }
    },
    {
      "cell_type": "markdown",
      "source": [
        "# ASSIGNMENT 3"
      ],
      "metadata": {
        "id": "f-vBxIKDudjr"
      }
    },
    {
      "cell_type": "markdown",
      "source": [
        "TASK 1"
      ],
      "metadata": {
        "id": "UnG6MaYwumVF"
      }
    },
    {
      "cell_type": "code",
      "execution_count": 6,
      "metadata": {
        "colab": {
          "base_uri": "https://localhost:8080/"
        },
        "id": "I-fDe4rBrVHh",
        "outputId": "32e74924-a855-4c17-b50a-37e046247b53"
      },
      "outputs": [
        {
          "output_type": "stream",
          "name": "stdout",
          "text": [
            "enter a non negative number: 4\n",
            "the factorial of 4 is 24\n"
          ]
        }
      ],
      "source": [
        "def factorial(n):\n",
        "  if n<2:\n",
        "    return 1\n",
        "\n",
        "  else:\n",
        "    return n*(factorial(n-1))\n",
        "\n",
        "\n",
        "num = int(input(\"enter a non negative number: \"))\n",
        "if num<0:\n",
        "  print(\"invalid input\")\n",
        "else:\n",
        "  result = factorial(num)\n",
        "  print(\"the factorial of\",num,\"is\",result)\n",
        "\n"
      ]
    },
    {
      "cell_type": "markdown",
      "source": [
        "TASK 2"
      ],
      "metadata": {
        "id": "A4EjL7Rfupwe"
      }
    },
    {
      "cell_type": "code",
      "source": [
        "from math import *\n",
        "number = int(input(\"enter a number : \"))\n",
        "square_root = sqrt(number)\n",
        "print(\"the value of square root of \",number,\"is\",square_root)\n",
        "logarithm = log(number)\n",
        "print(\"the value of logarithm of \",number,\"is\",logarithm)\n",
        "sine_value = sin(number)\n",
        "print(\"the sine value of\",number,\"is\",sine_value)\n",
        "\n"
      ],
      "metadata": {
        "colab": {
          "base_uri": "https://localhost:8080/"
        },
        "id": "0MaeCicWurZF",
        "outputId": "d984b053-f419-4a67-9bd1-429f6ada1080"
      },
      "execution_count": 8,
      "outputs": [
        {
          "output_type": "stream",
          "name": "stdout",
          "text": [
            "enter a number : 9\n",
            "the value of square root of  9 is 3.0\n",
            "the value of logarithm of  9 is 2.1972245773362196\n",
            "the sine value of 9 is 0.4121184852417566\n"
          ]
        }
      ]
    }
  ]
}